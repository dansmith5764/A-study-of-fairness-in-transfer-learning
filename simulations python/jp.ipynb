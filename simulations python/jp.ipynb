{
 "cells": [
  {
   "cell_type": "code",
   "execution_count": 20,
   "metadata": {},
   "outputs": [
    {
     "name": "stdout",
     "output_type": "stream",
     "text": [
      "sigma shape (4, 4)\n",
      "mu shape (4,)\n",
      "x shape (4,)\n",
      "0.006378411393413104\n"
     ]
    }
   ],
   "source": [
    "import math \n",
    "import numpy as np\n",
    "# covariance matrix\n",
    "sigma = np.matrix([[2.3, 0, 0, 0],\n",
    "           [0, 1.5, 0, 0],\n",
    "           [0, 0, 1.7, 0],\n",
    "           [0, 0,   0, 2]\n",
    "          ])\n",
    "# mean vector\n",
    "mu = np.array([2,3,8,10])\n",
    "\n",
    "# input\n",
    "x = np.array([2.1,3.5,8, 9.5])\n",
    "\n",
    "print('sigma shape', np.shape(sigma))\n",
    "print('mu shape', np.shape(mu))\n",
    "print('x shape', np.shape(x))\n",
    "\n",
    "\n",
    "def norm_pdf_multivariate(x, mu, sigma):\n",
    "    size = len(x)\n",
    "    if size == len(mu) and (size, size) == sigma.shape:\n",
    "        det = np.linalg.det(sigma)\n",
    "        if det == 0:\n",
    "            raise NameError(\"The covariance matrix can't be singular\")\n",
    "\n",
    "        norm_const = 1.0/ ( math.pow((2*np.pi),float(size)/2) * math.pow(det,1.0/2) )\n",
    "        x_mu = np.matrix(x - mu)\n",
    "        inv = sigma.I        \n",
    "        result = math.pow(math.e, -0.5 * (x_mu * inv * x_mu.T))\n",
    "        return norm_const * result\n",
    "    else:\n",
    "        raise NameError(\"The dimensions of the input don't match\")\n",
    "\n",
    "print (norm_pdf_multivariate(x, mu, sigma))"
   ]
  }
 ],
 "metadata": {
  "kernelspec": {
   "display_name": "Python 3.10.7 64-bit",
   "language": "python",
   "name": "python3"
  },
  "language_info": {
   "codemirror_mode": {
    "name": "ipython",
    "version": 3
   },
   "file_extension": ".py",
   "mimetype": "text/x-python",
   "name": "python",
   "nbconvert_exporter": "python",
   "pygments_lexer": "ipython3",
   "version": "3.10.7"
  },
  "orig_nbformat": 4,
  "vscode": {
   "interpreter": {
    "hash": "f844d2be2f5d9634b75a5a1c006752c2ef492e83fd3c796afe00c46304c311d6"
   }
  }
 },
 "nbformat": 4,
 "nbformat_minor": 2
}
